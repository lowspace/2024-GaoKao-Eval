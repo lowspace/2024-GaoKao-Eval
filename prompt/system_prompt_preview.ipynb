{
 "cells": [
  {
   "cell_type": "code",
   "execution_count": 1,
   "metadata": {},
   "outputs": [],
   "source": [
    "import sys\n",
    "import os\n",
    "\n",
    "# Add the directory containing the module to the Python path\n",
    "cwd = os.getcwd()\n",
    "parent_dir = os.path.dirname(cwd)\n",
    "module_path = os.path.join(parent_dir, 'tools')\n",
    "if module_path not in sys.path:\n",
    "    sys.path.append(module_path)"
   ]
  },
  {
   "cell_type": "code",
   "execution_count": 27,
   "metadata": {},
   "outputs": [
    {
     "data": {
      "text/plain": [
       "11348"
      ]
     },
     "execution_count": 27,
     "metadata": {},
     "output_type": "execute_result"
    }
   ],
   "source": [
    "import parse_data\n",
    "\n",
    "fpath = os.path.join(cwd, 'system_prompt.jsonl')\n",
    "data = parse_data.read_jsonl(fpath)\n",
    "preview = ''\n",
    "\n",
    "for item in data:\n",
    "    preview += f\"parameter is:\\n\\t{item['parameter']}\\n\"\n",
    "    preview += f\"prompt    is:\\n```\\n{item['prompt']}```\\n\"\n",
    "\n",
    "preview_fpath = os.path.join(cwd, 'system_prompt_preview.md')\n",
    "with open(preview_fpath, 'w') as f:\n",
    "    f.write(preview)"
   ]
  }
 ],
 "metadata": {
  "kernelspec": {
   "display_name": "llm_api",
   "language": "python",
   "name": "python3"
  },
  "language_info": {
   "codemirror_mode": {
    "name": "ipython",
    "version": 3
   },
   "file_extension": ".py",
   "mimetype": "text/x-python",
   "name": "python",
   "nbconvert_exporter": "python",
   "pygments_lexer": "ipython3",
   "version": "3.10.14"
  }
 },
 "nbformat": 4,
 "nbformat_minor": 2
}
